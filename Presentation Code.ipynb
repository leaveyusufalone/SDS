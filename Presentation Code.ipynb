{
 "cells": [
  {
   "cell_type": "code",
   "execution_count": null,
   "id": "smooth-receiver",
   "metadata": {},
   "outputs": [],
   "source": [
    "df = pd.read_csv('data/LSOA_Data (1).csv')"
   ]
  },
  {
   "cell_type": "code",
   "execution_count": null,
   "id": "passive-moisture",
   "metadata": {},
   "outputs": [],
   "source": [
    "df.drop(['Area', 'PropertyCount', 'MultiHost', 'SmallHost', 'SharedRoom', 'PrivateRoom' ,'EntireHome', 'MedianPrice', \n",
    "         'MeanPrice','SumPrice', 'MedianIncome', 'BedsHH','RoomsHH', 'ORbedsM1', 'ORroomsM1', 'GreenspaceArea', 'HHOLDS', 'POPDEN'], axis=1, inplace=True)"
   ]
  },
  {
   "cell_type": "code",
   "execution_count": null,
   "id": "surrounded-prospect",
   "metadata": {},
   "outputs": [],
   "source": [
    "# correlation matrix \n",
    "corr= df.corr()\n",
    "\n",
    "# style it\n",
    "corr.style.background_gradient(cmap='coolwarm')"
   ]
  },
  {
   "cell_type": "code",
   "execution_count": null,
   "id": "identical-classics",
   "metadata": {},
   "outputs": [],
   "source": [
    " \n",
    "y, X = dmatrices('Owned ~ White+Black+Asian+MultiEthnic+OtherEthnic', data=df, return_type='dataframe')\n",
    "\n",
    "\n",
    "vif = pd.DataFrame()\n",
    "vif['VIF'] = [variance_inflation_factor(X.values, i) for i in range(X.shape[1])]\n",
    "vif['variable'] = X.columns\n",
    "\n",
    "\n",
    "vif"
   ]
  },
  {
   "cell_type": "code",
   "execution_count": null,
   "id": "unnecessary-bookmark",
   "metadata": {},
   "outputs": [],
   "source": [
    "\n",
    "y, X = dmatrices('SocialRented ~ White+Black+Asian+MultiEthnic+OtherEthnic', data=df, return_type='dataframe')\n",
    "\n",
    "#calculate VIF for each explanatory variable\n",
    "vif = pd.DataFrame()\n",
    "vif['VIF'] = [variance_inflation_factor(X.values, i) for i in range(X.shape[1])]\n",
    "vif['variable'] = X.columns\n",
    "\n",
    "#view VIF for each explanatory variable \n",
    "vif"
   ]
  },
  {
   "cell_type": "code",
   "execution_count": null,
   "id": "suitable-orchestra",
   "metadata": {},
   "outputs": [],
   "source": [
    "\n",
    "ownership = df['Owned']\n",
    "\n",
    "y = np.array(ownership)\n",
    "\n",
    "y.shape = (len(ownership),1)"
   ]
  },
  {
   "cell_type": "code",
   "execution_count": null,
   "id": "numerous-mounting",
   "metadata": {},
   "outputs": [],
   "source": [
    "\n",
    "X = []\n",
    "X.append(df['White'])\n",
    "X.append(df['Black'])\n",
    "X.append(df['Asian'])\n",
    "X.append(df['MultiEthnic'])\n",
    "X.append(df['OtherEthnic'])\n",
    "\n",
    "X=np.array(X).T"
   ]
  },
  {
   "cell_type": "code",
   "execution_count": null,
   "id": "analyzed-petersburg",
   "metadata": {},
   "outputs": [],
   "source": [
    "ols = pysal.model.spreg.OLS(y, X, name_y='Owned',\\\n",
    "          name_x=['White','Black','Asian', 'MultiEthnic', 'OtherEthnic'],\\\n",
    "          name_ds='London', white_test=True)\n",
    "print(ols.summary)\n",
    "                        "
   ]
  },
  {
   "cell_type": "code",
   "execution_count": null,
   "id": "saving-buying",
   "metadata": {},
   "outputs": [],
   "source": [
    "\n",
    "x = ['White','Black','Asian', 'MultiEthnic', 'OtherEthnic'] \n",
    "X = df2.loc[:, x].dropna()\n",
    "X = sm.add_constant(X)\n",
    "y = np.array(df2['SocialRented']) \n",
    "\n",
    "model = sm.OLS(y, X).fit()\n",
    "predictions = model.predict(X) \n",
    "\n",
    "\n",
    "print(model.summary())"
   ]
  }
 ],
 "metadata": {
  "kernelspec": {
   "display_name": "Python 3",
   "language": "python",
   "name": "python3"
  },
  "language_info": {
   "codemirror_mode": {
    "name": "ipython",
    "version": 3
   },
   "file_extension": ".py",
   "mimetype": "text/x-python",
   "name": "python",
   "nbconvert_exporter": "python",
   "pygments_lexer": "ipython3",
   "version": "3.8.10"
  }
 },
 "nbformat": 4,
 "nbformat_minor": 5
}
